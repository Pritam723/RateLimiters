{
 "cells": [
  {
   "cell_type": "code",
   "execution_count": 1,
   "id": "723a6dd7",
   "metadata": {},
   "outputs": [],
   "source": [
    "# This algorithm combines the Fixed Window Counter and Sliding Window Log \n",
    "# approaches for a more accurate and efficient solution. Instead of keeping \n",
    "# track of every single request’s timestamp as the sliding log does, it focus\n",
    "# on the number of requests from the last window. So, if you are in 75% of \n",
    "# the current window, 25% of the weight would come from the previous window,\n",
    "# and the rest from the current one:\n",
    "# In such cases weight will be calculated as:\n",
    "\n",
    "# weight = (100 - 75)% * lastWindowRequests + currentWindowRequests\n",
    "# Now, when a new request comes, you add one to that weight (weight + 1).\n",
    "# If this new total crosses our set limit, we have to reject the request.\n",
    "\n",
    "# Algorithm:\n",
    "# i) Keep track of request count for the current and previous window.\n",
    "# ii) Calculate the weighted sum of requests based on the overlap with the sliding window.\n",
    "# iii) If the weighted sum is less than the limit, allow the request.\n",
    "\n",
    "# Note. To calculate the overlap, we can use simple maths.\n",
    "# Ex. Previous window had 3 req. Current window till now has 4 req and 60% of the \n",
    "# current window has elapsed. So we calculate 3*0.4 + 4 = 5 (Can be taken 6 if we are strict)\n",
    "# And now a req is coming, we basically we will have 6 req in this window. Surely,\n",
    "# it will only be served if maxReq >= 6. Otherwise it will be dropped.\n",
    "\n",
    "# Ex. how to calculate how much window has elapsed? Say windowSize = 10 seconds.\n",
    "# Our windows are like this: 0-9 (Window-0), 10-19 (Window-1), 20-29 (Window-2) etc.\n",
    "# So, If we are at second = 24, so it is 24/10 = window no. 2. But how much time has passed?\n",
    "# 24 % 10 = 4, so elapsed = 4/10 = 0.4 i.e., 40%. So, previous window to consider is 60%."
   ]
  },
  {
   "cell_type": "code",
   "execution_count": 8,
   "id": "259f761c",
   "metadata": {},
   "outputs": [],
   "source": [
    "import time as TIME\n",
    "# We do not need memory for deque here.\n",
    "\n",
    "class SlidingWindowCounter():\n",
    "    def __init__(self, windowSize, maxReq):\n",
    "        self.windowSize = windowSize\n",
    "        self.maxReq = maxReq\n",
    "        \n",
    "        # We need to check current window no and no of req\n",
    "        # in prev and curr window.\n",
    "        self.currWindowNo = TIME.time()//windowSize\n",
    "        self.currWindowReq = 0\n",
    "        self.prevWindowReq = 0\n",
    "        \n",
    "    def handleReq(self, req): # We take req IRL also.\n",
    "        requestTime = TIME.time() # Current req time.\n",
    "        # We need to see if this window is same as self.currWindowNo\n",
    "        windowNo = int(requestTime)//self.windowSize\n",
    "        timeElapsed = (int(requestTime) % self.windowSize) / self.windowSize # This should not be interger division.\n",
    "        \n",
    "        # We can calculate weighted effective no. of requests based on this timeElapsed fraction.\n",
    "        # But before that we must see if we have entered a new window or not.\n",
    "        \n",
    "        if(windowNo != self.currWindowNo):\n",
    "            # So, we are still in a new window.\n",
    "            self.currWindowNo = windowNo\n",
    "            self.prevWindowReq = self.currWindowReq\n",
    "            self.currWindowReq = 0\n",
    "            \n",
    "        # Now, we will calculate the effective no. of requests.\n",
    "        effectiveReq = (1 - timeElapsed)*self.prevWindowReq + self.currWindowReq\n",
    "        # Now, we need to see if we can also accomodate our new req.\n",
    "        \n",
    "        if(effectiveReq < self.maxReq):\n",
    "            print(\"Request can be processed...\")\n",
    "            self.currWindowReq = self.currWindowReq + 1\n",
    "            return True\n",
    "        # Otherwise we cannot serve this request.\n",
    "        print(\"Request cannot be processed...\")\n",
    "        return False"
   ]
  },
  {
   "cell_type": "code",
   "execution_count": 9,
   "id": "fb5ba9cc",
   "metadata": {},
   "outputs": [
    {
     "name": "stdout",
     "output_type": "stream",
     "text": [
      "This is request 1\n",
      "Request can be processed...\n",
      "This is request 2\n",
      "Request can be processed...\n",
      "This is request 3\n",
      "Request can be processed...\n",
      "This is request 4\n",
      "Request can be processed...\n",
      "This is request 5\n",
      "Request can be processed...\n",
      "This is request 6\n",
      "Request cannot be processed...\n",
      "This is request 7\n",
      "Request cannot be processed...\n",
      "This is request 8\n",
      "Request cannot be processed...\n",
      "This is request 9\n",
      "Request can be processed...\n",
      "This is request 10\n",
      "Request cannot be processed...\n",
      "This is a new request\n",
      "Request can be processed...\n"
     ]
    },
    {
     "data": {
      "text/plain": [
       "True"
      ]
     },
     "execution_count": 9,
     "metadata": {},
     "output_type": "execute_result"
    }
   ],
   "source": [
    "limiter = SlidingWindowCounter(windowSize = 10, maxReq = 5)\n",
    "\n",
    "for req in range(10):\n",
    "    print(f\"This is request {req+1}\")\n",
    "    limiter.handleReq(req)\n",
    "    TIME.sleep(0.4)\n",
    "    \n",
    "TIME.sleep(7)\n",
    "# So, we wait for 7 more seconds to make our window slide.\n",
    "print(f\"This is a new request\")\n",
    "limiter.handleReq(100)"
   ]
  },
  {
   "cell_type": "code",
   "execution_count": null,
   "id": "223d9349",
   "metadata": {},
   "outputs": [],
   "source": []
  }
 ],
 "metadata": {
  "kernelspec": {
   "display_name": "Python 3 (ipykernel)",
   "language": "python",
   "name": "python3"
  },
  "language_info": {
   "codemirror_mode": {
    "name": "ipython",
    "version": 3
   },
   "file_extension": ".py",
   "mimetype": "text/x-python",
   "name": "python",
   "nbconvert_exporter": "python",
   "pygments_lexer": "ipython3",
   "version": "3.10.6"
  }
 },
 "nbformat": 4,
 "nbformat_minor": 5
}
