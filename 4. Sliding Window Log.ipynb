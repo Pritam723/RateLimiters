{
 "cells": [
  {
   "cell_type": "code",
   "execution_count": 15,
   "id": "661cf021",
   "metadata": {},
   "outputs": [],
   "source": [
    "# In Fixed window, every window is fixed and we number each window.\n",
    "# So, we have seen the issue of requests coming at edge of previous window.\n",
    "# In sliding window, the window is sliding. We count the window starting from\n",
    "# current_time - window_size (in seconds) to current_time. And we maintain a queue\n",
    "# of requests. If we see that there is a request in queue having ts of < current_time - window_size,\n",
    "# then we pop it out. So, we need to log every request actually.\n",
    "\n",
    "import time as TIME\n",
    "from collections import deque\n",
    "\n",
    "class SlidingWindowLog():\n",
    "    def __init__(self, windowSize, maxReq):\n",
    "        # So, we need windowSize in seconds and maxReq\n",
    "        # allowed in a window.\n",
    "        self.windowSize = windowSize\n",
    "        self.maxReq = maxReq\n",
    "        \n",
    "        # There is no need to save the current time,\n",
    "        # we will pop out reqs from the queue in runtime\n",
    "        # depending on the time.\n",
    "        \n",
    "        self.bucket = deque()\n",
    "        \n",
    "    def handle_request(self, req):\n",
    "        # Surely we need to take the request in real use cases.\n",
    "        # Here request timestamp will be calculated here only.\n",
    "        \n",
    "        requestTime = TIME.time()\n",
    "        lastAllowedTimeInQueue = requestTime - self.windowSize\n",
    "        \n",
    "        # Now, check the queue and remove the ones having req time < lastAllowedTimeInQueue\n",
    "        # All are in seconds so comparison is easier.\n",
    "        \n",
    "        while(len(self.bucket) > 0 and self.bucket[0] < lastAllowedTimeInQueue):\n",
    "            self.bucket.popleft()\n",
    "            \n",
    "        # Now that old requests are removed. We need to add this req. But we must be careful\n",
    "        # and check whether it is crossing the maxReq in thsi window.\n",
    "        \n",
    "        if(len(self.bucket) >= self.maxReq):\n",
    "            print(\"Request Dropped...\")\n",
    "            return False\n",
    "        \n",
    "        # Otherwise surely we can serve this request.\n",
    "        self.bucket.append(requestTime) # We can save (req, requestTime) pair also IRL.\n",
    "        print(\"Request Served...\")\n",
    "        return True"
   ]
  },
  {
   "cell_type": "code",
   "execution_count": 16,
   "id": "f8da6fd4",
   "metadata": {},
   "outputs": [
    {
     "name": "stdout",
     "output_type": "stream",
     "text": [
      "This is request 1\n",
      "Request Served...\n",
      "This is request 2\n",
      "Request Served...\n",
      "This is request 3\n",
      "Request Served...\n",
      "This is request 4\n",
      "Request Served...\n",
      "This is request 5\n",
      "Request Served...\n",
      "This is request 6\n",
      "Request Dropped...\n",
      "This is request 7\n",
      "Request Dropped...\n",
      "This is request 8\n",
      "Request Dropped...\n",
      "This is request 9\n",
      "Request Dropped...\n",
      "This is request 10\n",
      "Request Dropped...\n",
      "This is a new request\n",
      "Request Served...\n"
     ]
    },
    {
     "data": {
      "text/plain": [
       "True"
      ]
     },
     "execution_count": 16,
     "metadata": {},
     "output_type": "execute_result"
    }
   ],
   "source": [
    "limiter = SlidingWindowLog(windowSize = 10, maxReq = 5) # So, in 10 seconds sliding window, we allow 5 req at max.\n",
    "\n",
    "for req in range(10):\n",
    "    print(f\"This is request {req+1}\")\n",
    "    limiter.handle_request(req)\n",
    "    time.sleep(0.4)\n",
    "    \n",
    "time.sleep(7)\n",
    "# So, we wait for 7 more seconds to make our window slide.\n",
    "print(f\"This is a new request\")\n",
    "limiter.handle_request(100)"
   ]
  },
  {
   "cell_type": "code",
   "execution_count": null,
   "id": "fa2c8199",
   "metadata": {},
   "outputs": [],
   "source": []
  }
 ],
 "metadata": {
  "kernelspec": {
   "display_name": "Python 3 (ipykernel)",
   "language": "python",
   "name": "python3"
  },
  "language_info": {
   "codemirror_mode": {
    "name": "ipython",
    "version": 3
   },
   "file_extension": ".py",
   "mimetype": "text/x-python",
   "name": "python",
   "nbconvert_exporter": "python",
   "pygments_lexer": "ipython3",
   "version": "3.10.6"
  }
 },
 "nbformat": 4,
 "nbformat_minor": 5
}
