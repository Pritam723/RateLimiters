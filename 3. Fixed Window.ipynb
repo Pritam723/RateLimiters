{
 "cells": [
  {
   "cell_type": "code",
   "execution_count": 22,
   "id": "e328e39f",
   "metadata": {},
   "outputs": [
    {
     "name": "stdout",
     "output_type": "stream",
     "text": [
      "1724849974.8622077\n"
     ]
    }
   ],
   "source": [
    "import time\n",
    "# for i in range(30):\n",
    "#     time.sleep(1)\n",
    "#     x = time.time()\n",
    "#     print(int(x)//60)\n",
    "print(time.time()) # Gives a big number indicating the time in Seconds from inception."
   ]
  },
  {
   "cell_type": "code",
   "execution_count": 33,
   "id": "abab43c6",
   "metadata": {},
   "outputs": [],
   "source": [
    "class FixedWindow():\n",
    "    def __init__(self, windowSize, maxReq):\n",
    "        # So, we need to know the window size and maxReq\n",
    "        # allowed in a window.\n",
    "        \n",
    "        self.windowSize = windowSize\n",
    "        self.maxReq = maxReq\n",
    "        \n",
    "        # Also, we need to carefully distinguish each window.\n",
    "        self.windowNo = time.time() // windowSize\n",
    "        \n",
    "        # And in a particular window we need to count no. of req.\n",
    "        self.reqInCurrentWindow = 0\n",
    "        \n",
    "    def handle(self, req):\n",
    "        \"\"\" Req is optional if we are simply using for example. \"\"\"\n",
    "        \n",
    "        if(self.maxReq <= 0): return False # No point in checking count.\n",
    "        \n",
    "        # First check what window we are at.\n",
    "        requestTime = time.time() \n",
    "        currentWindow = requestTime // self.windowSize\n",
    "        \n",
    "        # So, we need to see if it is same as windowNo first.\n",
    "        if(currentWindow == self.windowNo):\n",
    "            # So, this is same window.\n",
    "            # print(self.reqInCurrentWindow, self.maxReq)\n",
    "            if(self.reqInCurrentWindow >= self.maxReq):\n",
    "                print(\"Can not process the request...\")\n",
    "                return False\n",
    "            else:\n",
    "                print(\"Req will be processed...\")\n",
    "                self.reqInCurrentWindow = self.reqInCurrentWindow + 1\n",
    "                return True\n",
    "        else:\n",
    "            # So, this is a different window.\n",
    "            self.windowNo = currentWindow\n",
    "            print(\"Req will be processed...\")\n",
    "            self.reqInCurrentWindow = 1\n",
    "            return True"
   ]
  },
  {
   "cell_type": "code",
   "execution_count": 34,
   "id": "446a1aa7",
   "metadata": {},
   "outputs": [
    {
     "name": "stdout",
     "output_type": "stream",
     "text": [
      "This is request 1\n",
      "Req will be processed...\n",
      "This is request 2\n",
      "Req will be processed...\n",
      "This is request 3\n",
      "Req will be processed...\n",
      "This is request 4\n",
      "Req will be processed...\n",
      "This is request 5\n",
      "Req will be processed...\n",
      "This is request 6\n",
      "Can not process the request...\n",
      "This is request 7\n",
      "Can not process the request...\n",
      "This is request 8\n",
      "Can not process the request...\n",
      "This is request 9\n",
      "Can not process the request...\n",
      "This is request 10\n",
      "Can not process the request...\n",
      "This is a new request\n",
      "Req will be processed...\n"
     ]
    },
    {
     "data": {
      "text/plain": [
       "True"
      ]
     },
     "execution_count": 34,
     "metadata": {},
     "output_type": "execute_result"
    }
   ],
   "source": [
    "limiter = FixedWindow(windowSize = 10, maxReq = 5)\n",
    "# So, windowSize is 10 Sec & can have at max 5 requests.\n",
    "# So, here in 4 second we are sending 10 requests.\n",
    "# First 5 will be accepted & rest will be rejected.\n",
    "\n",
    "for req in range(10):\n",
    "    print(f\"This is request {req+1}\")\n",
    "    limiter.handle(req)\n",
    "    time.sleep(0.4)\n",
    "    \n",
    "time.sleep(7)\n",
    "# So, we wait for 7 more seconds to make our window reset.\n",
    "print(f\"This is a new request\")\n",
    "limiter.handle(100)"
   ]
  },
  {
   "cell_type": "code",
   "execution_count": null,
   "id": "747ff803",
   "metadata": {},
   "outputs": [],
   "source": []
  }
 ],
 "metadata": {
  "kernelspec": {
   "display_name": "Python 3 (ipykernel)",
   "language": "python",
   "name": "python3"
  },
  "language_info": {
   "codemirror_mode": {
    "name": "ipython",
    "version": 3
   },
   "file_extension": ".py",
   "mimetype": "text/x-python",
   "name": "python",
   "nbconvert_exporter": "python",
   "pygments_lexer": "ipython3",
   "version": "3.10.6"
  }
 },
 "nbformat": 4,
 "nbformat_minor": 5
}
