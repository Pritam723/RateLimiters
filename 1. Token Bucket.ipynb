{
 "cells": [
  {
   "cell_type": "code",
   "execution_count": 18,
   "id": "0fd254d5",
   "metadata": {},
   "outputs": [],
   "source": [
    "from datetime import datetime\n",
    "import time"
   ]
  },
  {
   "cell_type": "code",
   "execution_count": 37,
   "id": "3cb61a72",
   "metadata": {},
   "outputs": [],
   "source": [
    "class TokenBucket():\n",
    "    def __init__(self, capacity, refillingRate):\n",
    "        # We need bucket capacity.\n",
    "        # Rate of token refilling per second.\n",
    "        self.capacity = capacity\n",
    "        self.refillingRate = refillingRate\n",
    "        \n",
    "        # Initially tokens available will be = capacity.\n",
    "        self.tokens = capacity\n",
    "        # Also we always need to store the timestamp of the last time\n",
    "        # when we calculated the token count.\n",
    "        self.lastCalculationTime = datetime.now()\n",
    "        \n",
    "    def allow_request(self, tokenConsumed = 1):\n",
    "        # Token Consumed for 1 request = 1 by default.\n",
    "        # So, this will either allow or discard the request.\n",
    "        # First check the time we are receiving the request.\n",
    "        requestTime = datetime.now()\n",
    "        # Now, see we have calculated that we have #tokens\n",
    "        # which we calculated in lastCalculationTime.\n",
    "        secondsPassed = int((requestTime - self.lastCalculationTime).seconds)\n",
    "        # In this interval, we can add refillingRate*secondsPassed tokens.\n",
    "        \n",
    "        self.tokens = min(self.tokens + self.refillingRate*secondsPassed, self.capacity)\n",
    "        self.lastCalculationTime = requestTime # This is must. Forgot to save this.\n",
    "        print(\"Tokens available in Bucket = \" + str(self.tokens))\n",
    "        \n",
    "        # Now, we need to check whether this is >= tokenConsumed atleast.\n",
    "        if(self.tokens >= tokenConsumed):\n",
    "            self.tokens = self.tokens - tokenConsumed\n",
    "            print(\"Request can be served...\")\n",
    "            return True\n",
    "        else:\n",
    "            print(\"Request cannot be served...\")\n",
    "            return False"
   ]
  },
  {
   "cell_type": "code",
   "execution_count": 38,
   "id": "1f746f96",
   "metadata": {},
   "outputs": [
    {
     "name": "stdout",
     "output_type": "stream",
     "text": [
      "Working with request 1\n",
      "Tokens available in Bucket = 10\n",
      "Request can be served...\n",
      "Working with request 2\n",
      "Tokens available in Bucket = 9\n",
      "Request can be served...\n",
      "Working with request 3\n",
      "Tokens available in Bucket = 8\n",
      "Request can be served...\n",
      "Working with request 4\n",
      "Tokens available in Bucket = 7\n",
      "Request can be served...\n",
      "Working with request 5\n",
      "Tokens available in Bucket = 6\n",
      "Request can be served...\n",
      "Working with request 6\n",
      "Tokens available in Bucket = 5\n",
      "Request can be served...\n",
      "Working with request 7\n",
      "Tokens available in Bucket = 4\n",
      "Request can be served...\n",
      "Working with request 8\n",
      "Tokens available in Bucket = 3\n",
      "Request can be served...\n",
      "Working with request 9\n",
      "Tokens available in Bucket = 2\n",
      "Request can be served...\n",
      "Working with request 10\n",
      "Tokens available in Bucket = 1\n",
      "Request can be served...\n",
      "Working with request 11\n",
      "Tokens available in Bucket = 0\n",
      "Request cannot be served...\n",
      "Working with request 12\n",
      "Tokens available in Bucket = 0\n",
      "Request cannot be served...\n",
      "Working with request 13\n",
      "Tokens available in Bucket = 0\n",
      "Request cannot be served...\n",
      "Working with request 14\n",
      "Tokens available in Bucket = 0\n",
      "Request cannot be served...\n",
      "Working with request 15\n",
      "Tokens available in Bucket = 0\n",
      "Request cannot be served...\n",
      "This is last request...\n",
      "Tokens available in Bucket = 2\n",
      "Request can be served...\n"
     ]
    },
    {
     "data": {
      "text/plain": [
       "True"
      ]
     },
     "execution_count": 38,
     "metadata": {},
     "output_type": "execute_result"
    }
   ],
   "source": [
    "limiter = TokenBucket(capacity = 10, refillingRate = 1)\n",
    "\n",
    "# Now, let's simulate the requests coming every 0.1 seconds, i.e., almost 10 req per seconds.\n",
    "\n",
    "for i in range(15):\n",
    "    print(\"Working with request \" + str(i+1))\n",
    "    limiter.allow_request(tokenConsumed = 1)\n",
    "    # Next req comes after 0.1 second.\n",
    "    time.sleep(0.1)\n",
    "    \n",
    "# Now, we stop requesting for 2 seconds say.\n",
    "time.sleep(2)\n",
    "print(\"This is last request...\")\n",
    "limiter.allow_request(tokenConsumed = 1)"
   ]
  },
  {
   "cell_type": "code",
   "execution_count": null,
   "id": "6298e5be",
   "metadata": {},
   "outputs": [],
   "source": []
  }
 ],
 "metadata": {
  "kernelspec": {
   "display_name": "Python 3 (ipykernel)",
   "language": "python",
   "name": "python3"
  },
  "language_info": {
   "codemirror_mode": {
    "name": "ipython",
    "version": 3
   },
   "file_extension": ".py",
   "mimetype": "text/x-python",
   "name": "python",
   "nbconvert_exporter": "python",
   "pygments_lexer": "ipython3",
   "version": "3.10.6"
  }
 },
 "nbformat": 4,
 "nbformat_minor": 5
}
