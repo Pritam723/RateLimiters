{
 "cells": [
  {
   "cell_type": "code",
   "execution_count": 23,
   "id": "2ab839a8",
   "metadata": {},
   "outputs": [],
   "source": [
    "from collections import deque\n",
    "from datetime import datetime # datetime is a module with a class called datetime.\n",
    "import time # It is a different class itself."
   ]
  },
  {
   "cell_type": "code",
   "execution_count": 26,
   "id": "bcf6a187",
   "metadata": {},
   "outputs": [],
   "source": [
    "class LeakyBucket():\n",
    "    def __init__(self, capacity, processingRate):\n",
    "        # We have bucket capacity and req processing rate/seconds.\n",
    "        self.capacity = capacity\n",
    "        self.processingRate = processingRate\n",
    "        \n",
    "        # Now to simulate the bucket leaking, we need to simulate\n",
    "        # 2 things. a queue in which we store the requests.\n",
    "        # It can be (req_id, req_time) although for this algo\n",
    "        # these 2 are not much required.\n",
    "        \n",
    "        self.bucket = deque() # Size of this is limited to capacity.\n",
    "        self.lastLeaktime = datetime.now()\n",
    "        \n",
    "    def allow_request(self):\n",
    "        # So, when a request comes, we need to see if bucket is full or not.\n",
    "        requestTime = datetime.now()\n",
    "        timePassed = int((requestTime - self.lastLeaktime).seconds)\n",
    "        \n",
    "        # Now, in this time, timePassed * processingRate no. of requests\n",
    "        # Must have been processed/leaked. So, this value must be capped to\n",
    "        # size of no. of requests in the bucket i.e., len(bucket)\n",
    "        \n",
    "        leakedReqs = min(timePassed * self.processingRate, len(self.bucket))\n",
    "        \n",
    "        # So, if this many requests are processed/ leaked, then current capacity will be\n",
    "        # len(bucket) - leakedReqs\n",
    "        \n",
    "        # Simulating the leak\n",
    "        for req in range(leakedReqs):\n",
    "            self.bucket.popleft()\n",
    "        \n",
    "        # Now, we must register this timestamp also.\n",
    "        self.lastLeaktime = requestTime\n",
    "        \n",
    "        # Now, we need to think about the new requests.\n",
    "        if(len(self.bucket) < self.capacity):\n",
    "            self.bucket.append(requestTime)\n",
    "            # Just saving the request time only.\n",
    "            print(\"Request is saved in queue...\")\n",
    "            return True\n",
    "        \n",
    "        print(\"Request is dropped...\")\n",
    "\n",
    "        return False    "
   ]
  },
  {
   "cell_type": "code",
   "execution_count": 27,
   "id": "1a933898",
   "metadata": {},
   "outputs": [
    {
     "name": "stdout",
     "output_type": "stream",
     "text": [
      "Working with request 1\n",
      "Working with request 2\n",
      "Working with request 3\n",
      "Working with request 4\n",
      "Working with request 5\n",
      "Working with request 6\n",
      "Working with request 7\n",
      "Working with request 8\n",
      "Working with request 9\n",
      "Working with request 10\n",
      "Working with request 11\n",
      "Working with request 12\n",
      "Working with request 13\n",
      "Working with request 14\n",
      "Working with request 15\n",
      "This is last request...\n"
     ]
    },
    {
     "data": {
      "text/plain": [
       "True"
      ]
     },
     "execution_count": 27,
     "metadata": {},
     "output_type": "execute_result"
    }
   ],
   "source": [
    "# Simulate requests coming to our application.\n",
    "limiter = LeakyBucket(capacity = 10, processingRate = 1)\n",
    "\n",
    "# Now, let's simulate the requests coming every 0.1 seconds, i.e., almost 10 req per seconds.\n",
    "\n",
    "for i in range(15):\n",
    "    print(\"Working with request \" + str(i+1))\n",
    "    limiter.allow_request()\n",
    "    # Next req comes after 0.1 second.\n",
    "    time.sleep(0.1)\n",
    "    \n",
    "# Now, we stop requesting for 2 seconds say.\n",
    "time.sleep(2)\n",
    "print(\"This is last request...\")\n",
    "limiter.allow_request()"
   ]
  },
  {
   "cell_type": "code",
   "execution_count": null,
   "id": "191787ff",
   "metadata": {},
   "outputs": [],
   "source": []
  }
 ],
 "metadata": {
  "kernelspec": {
   "display_name": "Python 3 (ipykernel)",
   "language": "python",
   "name": "python3"
  },
  "language_info": {
   "codemirror_mode": {
    "name": "ipython",
    "version": 3
   },
   "file_extension": ".py",
   "mimetype": "text/x-python",
   "name": "python",
   "nbconvert_exporter": "python",
   "pygments_lexer": "ipython3",
   "version": "3.10.6"
  }
 },
 "nbformat": 4,
 "nbformat_minor": 5
}
