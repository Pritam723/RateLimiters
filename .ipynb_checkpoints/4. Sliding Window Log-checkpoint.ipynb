{
 "cells": [
  {
   "cell_type": "code",
   "execution_count": 10,
   "id": "a366df6b",
   "metadata": {},
   "outputs": [],
   "source": [
    "# In Fixed window, every window is fixed and we number each window.\n",
    "# So, we have seen the issue of requests coming at edge of previous window.\n",
    "# In sliding window, the window is sliding. We count the window starting from\n",
    "# current_time - window_size (in seconds) to current_time. And we maintain a queue\n",
    "# of requests. If we see that there is a request in queue having ts of < current_time - window_size,\n",
    "# then we pop it out. So, we need to log every request actually.\n",
    "\n",
    "import time as TIME\n",
    "from collections import deque\n",
    "\n",
    "class SlidingWindowLog():\n",
    "    def __init__(self, windowSize, maxReq):\n",
    "        # So, we need windowSize in seconds and maxReq\n",
    "        # allowed in a window.\n",
    "        self.windowSize = windowSize\n",
    "        self.maxReq = maxReq\n",
    "        \n",
    "        # There is no need to save the current time,\n",
    "        # we will pop out reqs from the queue in runtime\n",
    "        # depending on the time.\n",
    "        \n",
    "        self.bucket = deque()\n",
    "        \n",
    "    def handle_request(self, req):\n",
    "        # Surely we need to take the request in real use cases.\n",
    "        # Here request timestamp will be calculated here only.\n",
    "        \n",
    "        requestTime = TIME.time()\n",
    "        lastAllowedTimeInQueue = requestTime - self.windowSize\n",
    "        \n",
    "        # Now, check the queue and remove the ones having req time < lastAllowedTimeInQueue\n",
    "        # All are in seconds so comparison is easier.\n",
    "        \n",
    "        while(len(self.bucket) > 0 and self.bucket[0] < lastAllowedTimeInQueue):\n",
    "            self.bucket.popleft()\n",
    "            \n",
    "        # Now that old requests are removed. We need to add this req. But we must be careful\n",
    "        # and check whether it is crossing the maxReq in thsi window.\n",
    "        \n",
    "        if(len(self.bucket) >= self.maxReq):\n",
    "            print(\"Request Dropped...\")\n",
    "            return False\n",
    "        \n",
    "        # Otherwise surely we can serve this request.\n",
    "        self.bucket.append(requestTime) # We can save (req, requestTime) pair also IRL.\n",
    "        print(\"Request Served...\")\n",
    "        return True"
   ]
  },
  {
   "cell_type": "code",
   "execution_count": 12,
   "id": "66c7be4a",
   "metadata": {},
   "outputs": [
    {
     "name": "stdout",
     "output_type": "stream",
     "text": [
      "This is request 1\n"
     ]
    },
    {
     "ename": "NameError",
     "evalue": "name 'maxReq' is not defined",
     "output_type": "error",
     "traceback": [
      "\u001b[1;31m---------------------------------------------------------------------------\u001b[0m",
      "\u001b[1;31mNameError\u001b[0m                                 Traceback (most recent call last)",
      "Input \u001b[1;32mIn [12]\u001b[0m, in \u001b[0;36m<cell line: 3>\u001b[1;34m()\u001b[0m\n\u001b[0;32m      3\u001b[0m \u001b[38;5;28;01mfor\u001b[39;00m req \u001b[38;5;129;01min\u001b[39;00m \u001b[38;5;28mrange\u001b[39m(\u001b[38;5;241m10\u001b[39m):\n\u001b[0;32m      4\u001b[0m     \u001b[38;5;28mprint\u001b[39m(\u001b[38;5;124mf\u001b[39m\u001b[38;5;124m\"\u001b[39m\u001b[38;5;124mThis is request \u001b[39m\u001b[38;5;132;01m{\u001b[39;00mreq\u001b[38;5;241m+\u001b[39m\u001b[38;5;241m1\u001b[39m\u001b[38;5;132;01m}\u001b[39;00m\u001b[38;5;124m\"\u001b[39m)\n\u001b[1;32m----> 5\u001b[0m     \u001b[43mlimiter\u001b[49m\u001b[38;5;241;43m.\u001b[39;49m\u001b[43mhandle_request\u001b[49m\u001b[43m(\u001b[49m\u001b[43mreq\u001b[49m\u001b[43m)\u001b[49m\n\u001b[0;32m      6\u001b[0m     time\u001b[38;5;241m.\u001b[39msleep(\u001b[38;5;241m0.4\u001b[39m)\n\u001b[0;32m      8\u001b[0m time\u001b[38;5;241m.\u001b[39msleep(\u001b[38;5;241m7\u001b[39m)\n",
      "Input \u001b[1;32mIn [10]\u001b[0m, in \u001b[0;36mSlidingWindowLog.handle_request\u001b[1;34m(self, req)\u001b[0m\n\u001b[0;32m     35\u001b[0m     \u001b[38;5;28mself\u001b[39m\u001b[38;5;241m.\u001b[39mbucket\u001b[38;5;241m.\u001b[39mpopleft()\n\u001b[0;32m     37\u001b[0m \u001b[38;5;66;03m# Now that old requests are removed. We need to add this req. But we must be careful\u001b[39;00m\n\u001b[0;32m     38\u001b[0m \u001b[38;5;66;03m# and check whether it is crossing the maxReq in thsi window.\u001b[39;00m\n\u001b[1;32m---> 40\u001b[0m \u001b[38;5;28;01mif\u001b[39;00m(\u001b[38;5;28mlen\u001b[39m(\u001b[38;5;28mself\u001b[39m\u001b[38;5;241m.\u001b[39mbucket) \u001b[38;5;241m>\u001b[39m\u001b[38;5;241m=\u001b[39m \u001b[43mmaxReq\u001b[49m):\n\u001b[0;32m     41\u001b[0m     \u001b[38;5;28mprint\u001b[39m(\u001b[38;5;124m\"\u001b[39m\u001b[38;5;124mRequest Dropped...\u001b[39m\u001b[38;5;124m\"\u001b[39m)\n\u001b[0;32m     42\u001b[0m     \u001b[38;5;28;01mreturn\u001b[39;00m \u001b[38;5;28;01mFalse\u001b[39;00m\n",
      "\u001b[1;31mNameError\u001b[0m: name 'maxReq' is not defined"
     ]
    }
   ],
   "source": [
    "limiter = SlidingWindowLog(windowSize = 10, maxReq = 5) # So, in 10 seconds sliding window, we allow 5 req at max.\n",
    "\n",
    "for req in range(10):\n",
    "    print(f\"This is request {req+1}\")\n",
    "    limiter.handle_request(req)\n",
    "    time.sleep(0.4)\n",
    "    \n",
    "time.sleep(7)\n",
    "# So, we wait for 7 more seconds to make our window slide.\n",
    "print(f\"This is a new request\")\n",
    "limiter.handle(100)"
   ]
  },
  {
   "cell_type": "code",
   "execution_count": null,
   "id": "f2f14d75",
   "metadata": {},
   "outputs": [],
   "source": []
  }
 ],
 "metadata": {
  "kernelspec": {
   "display_name": "Python 3 (ipykernel)",
   "language": "python",
   "name": "python3"
  },
  "language_info": {
   "codemirror_mode": {
    "name": "ipython",
    "version": 3
   },
   "file_extension": ".py",
   "mimetype": "text/x-python",
   "name": "python",
   "nbconvert_exporter": "python",
   "pygments_lexer": "ipython3",
   "version": "3.10.6"
  }
 },
 "nbformat": 4,
 "nbformat_minor": 5
}
