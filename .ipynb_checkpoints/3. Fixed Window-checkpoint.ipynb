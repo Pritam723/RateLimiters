{
 "cells": [
  {
   "cell_type": "code",
   "execution_count": 1,
   "id": "674a986b",
   "metadata": {},
   "outputs": [],
   "source": [
    "from datetime import datetime"
   ]
  },
  {
   "cell_type": "code",
   "execution_count": 2,
   "id": "3a5c57b2",
   "metadata": {},
   "outputs": [
    {
     "data": {
      "text/plain": [
       "datetime.datetime(2024, 8, 28, 18, 2, 23, 644245)"
      ]
     },
     "execution_count": 2,
     "metadata": {},
     "output_type": "execute_result"
    }
   ],
   "source": [
    "currentTime = datetime.now()\n",
    "currentTime"
   ]
  },
  {
   "cell_type": "code",
   "execution_count": 12,
   "id": "92a7df26",
   "metadata": {},
   "outputs": [],
   "source": [
    "import time\n"
   ]
  },
  {
   "cell_type": "code",
   "execution_count": 15,
   "id": "41f493bc",
   "metadata": {},
   "outputs": [
    {
     "name": "stdout",
     "output_type": "stream",
     "text": [
      "28747477\n",
      "28747477\n",
      "28747477\n",
      "28747477\n",
      "28747477\n",
      "28747477\n",
      "28747477\n",
      "28747477\n",
      "28747477\n",
      "28747477\n",
      "28747477\n",
      "28747477\n",
      "28747477\n",
      "28747477\n",
      "28747477\n",
      "28747477\n",
      "28747477\n",
      "28747477\n",
      "28747477\n",
      "28747477\n",
      "28747478\n",
      "28747478\n",
      "28747478\n",
      "28747478\n",
      "28747478\n",
      "28747478\n",
      "28747478\n",
      "28747478\n",
      "28747478\n",
      "28747478\n"
     ]
    }
   ],
   "source": [
    "for i in range(30):\n",
    "    time.sleep(1)\n",
    "    x = time.time()\n",
    "    print(int(x)//60)"
   ]
  },
  {
   "cell_type": "code",
   "execution_count": 17,
   "id": "c7e602e0",
   "metadata": {},
   "outputs": [],
   "source": [
    "class FixedWindow():\n",
    "    def __init__(self, windowSize, maxReq):\n",
    "        # So, we need to know the window size and maxReq\n",
    "        # allowed in a window.\n",
    "        \n",
    "        self.windowSize = windowSize\n",
    "        self.maxReq = maxReq\n",
    "        \n",
    "        # Also, we need to carefully distinguish each window.\n",
    "        self.windowNo = time.time() // windowSize\n",
    "        \n",
    "        # And in a particular window we need to count no. of req.\n",
    "        self.reqInCurrentWindow = 0\n",
    "        \n",
    "    def handle(self, req):\n",
    "        \"\"\" Req is optional if we are simply using for example. \"\"\"\n",
    "        \n",
    "        if(self.maxReq <= 0): return False # No point in checking count.\n",
    "        \n",
    "        # First check what window we are at.\n",
    "        requestTime = time.time() \n",
    "        currentWindow = requestTime // self.windowSize\n",
    "        \n",
    "        # So, we need to see if it is same as windowNo first.\n",
    "        if(currentWindow == self.windowNo):\n",
    "            # So, this is same window.\n",
    "            if(self.reqInCurrentWindow >= self.maxReq):\n",
    "                print(\"Can not process the request...\")\n",
    "                return False\n",
    "            else:\n",
    "                print(\"Req will be processed...\")\n",
    "                self.reqInCurrentWindow = self.reqInCurrentWindow + 1\n",
    "                return True\n",
    "        else:\n",
    "            # So, this is a different window.\n",
    "            self.windowNo = currentWindow\n",
    "            print(\"Req will be processed...\")\n",
    "            self.reqInCurrentWindow = 1\n",
    "            return True"
   ]
  },
  {
   "cell_type": "code",
   "execution_count": 18,
   "id": "aa8be5b7",
   "metadata": {},
   "outputs": [
    {
     "name": "stdout",
     "output_type": "stream",
     "text": [
      "This is request 30\n"
     ]
    },
    {
     "ename": "NameError",
     "evalue": "name 'windowSize' is not defined",
     "output_type": "error",
     "traceback": [
      "\u001b[1;31m---------------------------------------------------------------------------\u001b[0m",
      "\u001b[1;31mNameError\u001b[0m                                 Traceback (most recent call last)",
      "Input \u001b[1;32mIn [18]\u001b[0m, in \u001b[0;36m<cell line: 6>\u001b[1;34m()\u001b[0m\n\u001b[0;32m      6\u001b[0m \u001b[38;5;28;01mfor\u001b[39;00m req \u001b[38;5;129;01min\u001b[39;00m \u001b[38;5;28mrange\u001b[39m(\u001b[38;5;241m10\u001b[39m):\n\u001b[0;32m      7\u001b[0m     \u001b[38;5;28mprint\u001b[39m(\u001b[38;5;124mf\u001b[39m\u001b[38;5;124m\"\u001b[39m\u001b[38;5;124mThis is request \u001b[39m\u001b[38;5;132;01m{\u001b[39;00mi\u001b[38;5;241m+\u001b[39m\u001b[38;5;241m1\u001b[39m\u001b[38;5;132;01m}\u001b[39;00m\u001b[38;5;124m\"\u001b[39m)\n\u001b[1;32m----> 8\u001b[0m     \u001b[43mlimiter\u001b[49m\u001b[38;5;241;43m.\u001b[39;49m\u001b[43mhandle\u001b[49m\u001b[43m(\u001b[49m\u001b[43mreq\u001b[49m\u001b[43m)\u001b[49m\n\u001b[0;32m      9\u001b[0m     time\u001b[38;5;241m.\u001b[39msleep(\u001b[38;5;241m0.4\u001b[39m)\n\u001b[0;32m     11\u001b[0m time\u001b[38;5;241m.\u001b[39msleep(\u001b[38;5;241m7\u001b[39m)\n",
      "Input \u001b[1;32mIn [17]\u001b[0m, in \u001b[0;36mFixedWindow.handle\u001b[1;34m(self, req)\u001b[0m\n\u001b[0;32m     20\u001b[0m \u001b[38;5;66;03m# First check what window we are at.\u001b[39;00m\n\u001b[0;32m     21\u001b[0m requestTime \u001b[38;5;241m=\u001b[39m time\u001b[38;5;241m.\u001b[39mtime() \n\u001b[1;32m---> 22\u001b[0m currentWindow \u001b[38;5;241m=\u001b[39m requestTime \u001b[38;5;241m/\u001b[39m\u001b[38;5;241m/\u001b[39m \u001b[43mwindowSize\u001b[49m\n\u001b[0;32m     24\u001b[0m \u001b[38;5;66;03m# So, we need to see if it is same as windowNo first.\u001b[39;00m\n\u001b[0;32m     25\u001b[0m \u001b[38;5;28;01mif\u001b[39;00m(currentWindow \u001b[38;5;241m==\u001b[39m \u001b[38;5;28mself\u001b[39m\u001b[38;5;241m.\u001b[39mwindowNo):\n\u001b[0;32m     26\u001b[0m     \u001b[38;5;66;03m# So, this is same window.\u001b[39;00m\n",
      "\u001b[1;31mNameError\u001b[0m: name 'windowSize' is not defined"
     ]
    }
   ],
   "source": [
    "limiter = FixedWindow(windowSize = 10, maxReq = 5)\n",
    "# So, windowSize is 10 Sec & can have at max 5 requests.\n",
    "# So, here in 4 second we are sending 10 requests.\n",
    "# First 5 will be accepted & rest will be rejected.\n",
    "\n",
    "for req in range(10):\n",
    "    print(f\"This is request {i+1}\")\n",
    "    limiter.handle(req)\n",
    "    time.sleep(0.4)\n",
    "    \n",
    "time.sleep(7)\n",
    "# So, we wait for 7 more seconds to make our window reset.\n",
    "print(f\"This is a new request\")\n",
    "limiter.handle(100)"
   ]
  },
  {
   "cell_type": "code",
   "execution_count": null,
   "id": "16da7134",
   "metadata": {},
   "outputs": [],
   "source": []
  }
 ],
 "metadata": {
  "kernelspec": {
   "display_name": "Python 3 (ipykernel)",
   "language": "python",
   "name": "python3"
  },
  "language_info": {
   "codemirror_mode": {
    "name": "ipython",
    "version": 3
   },
   "file_extension": ".py",
   "mimetype": "text/x-python",
   "name": "python",
   "nbconvert_exporter": "python",
   "pygments_lexer": "ipython3",
   "version": "3.10.6"
  }
 },
 "nbformat": 4,
 "nbformat_minor": 5
}
